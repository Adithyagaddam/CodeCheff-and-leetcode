{
 "cells": [
  {
   "cell_type": "markdown",
   "id": "2c123ccb",
   "metadata": {},
   "source": []
  },
  {
   "cell_type": "code",
   "execution_count": 2,
   "id": "b45b3cbf",
   "metadata": {},
   "outputs": [],
   "source": [
    "import tkinter as tk\n",
    "from tkinter import *\n",
    "def selection():\n",
    "    selection = \"You selected the option \" + str(var.get())\n",
    "    label.config(text = selection)\n",
    "if __name__ == \"__main__\":\n",
    "    r = tk.Tk()\n",
    "    var = tk.IntVar()\n",
    "    r.title('tk')\n",
    "    r.geometry(\"200x200\")\n",
    "    l1=tk.Label(r,text=\"Empid:  \")\n",
    "    l1.grid(row=0)\n",
    "    t=tk.Entry(r)\n",
    "    t.grid(row=0,column=1)\n",
    "    l2=tk.Label(r,text=\"Employee Name:  \")\n",
    "    l2.grid(row=1)\n",
    "    t=tk.Entry(r)\n",
    "    t.grid(row=1,column=1)\n",
    "    l3=tk.Label(r,text=\"Job:\")\n",
    "    l3.grid(row=2)\n",
    "    t=tk.Entry(r)\n",
    "    t.grid(row=2,column=1)\n",
    "    l4=tk.Label(r,text=\"Employee type:\")\n",
    "    l4.grid(row=3)\n",
    "    R1 = Radiobutton(r, text=\"Regular\", variable=var, value=1,command=selection)\n",
    "    R1.grid(row=3,column=1)\n",
    "    R2=Radiobutton(r, text=\"Temporary\", variable=var, value=2,command=selection)\n",
    "    R2.grid(row=3,column=2)\n",
    "    l5=tk.Label(r,text=\"Salary\")\n",
    "    l5.grid(row=4)\n",
    "    w = Spinbox(r, from_=0, to=100)\n",
    "    w.grid(row=4,column=1)\n",
    "    b1= Button(r,text = \"Insert\") \n",
    "    b1.grid(row=5,column=0)\n",
    "    b2= Button(r,text = \"Update\") \n",
    "    b2.grid(row=5,column=1)\n",
    "    b3= Button(r,text = \"Delete\") \n",
    "    b3.grid(row=6,column=0)\n",
    "    b1= Button(r,text = \"Select\") \n",
    "    b1.grid(row=6,column=1)\n",
    "    label = Label(r)\n",
    "r.mainloop()\n"
   ]
  },
  {
   "cell_type": "code",
   "execution_count": null,
   "id": "926f34ae",
   "metadata": {},
   "outputs": [],
   "source": []
  }
 ],
 "metadata": {
  "kernelspec": {
   "display_name": "Python 3 (ipykernel)",
   "language": "python",
   "name": "python3"
  },
  "language_info": {
   "codemirror_mode": {
    "name": "ipython",
    "version": 3
   },
   "file_extension": ".py",
   "mimetype": "text/x-python",
   "name": "python",
   "nbconvert_exporter": "python",
   "pygments_lexer": "ipython3",
   "version": "3.9.7"
  }
 },
 "nbformat": 4,
 "nbformat_minor": 5
}
